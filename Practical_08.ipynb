{
 "cells": [
  {
   "cell_type": "markdown",
   "id": "211199da-d93b-4fee-9942-4c7e789cbcf2",
   "metadata": {},
   "source": [
    "# Central Tendancy of measures (Mean, Median, Mode)"
   ]
  },
  {
   "cell_type": "code",
   "execution_count": 4,
   "id": "833969df-2299-4093-970c-35f0e7fdf86e",
   "metadata": {},
   "outputs": [],
   "source": [
    "#Exp no. : 8"
   ]
  },
  {
   "cell_type": "code",
   "execution_count": 6,
   "id": "03f4754e-f53e-4e03-a9d5-2df0692a3979",
   "metadata": {},
   "outputs": [],
   "source": [
    "#Aim : To find Central Tendancy of measures (Mean, Median, Mode)"
   ]
  },
  {
   "cell_type": "code",
   "execution_count": 8,
   "id": "cbd809df-ba43-4acc-a463-7e8d59e78247",
   "metadata": {},
   "outputs": [],
   "source": [
    "#Name :  Devesh J Arbat \n",
    "#Roll no. : 06\n",
    "#Section : A"
   ]
  },
  {
   "cell_type": "code",
   "execution_count": 10,
   "id": "8e34c3a0-8d5c-4f8b-9787-3ce9d4a2cb24",
   "metadata": {},
   "outputs": [],
   "source": [
    "age=[21,22,25,23,24,26,25,25,28,29,27,29,26,24,23,23,23,21,23]"
   ]
  },
  {
   "cell_type": "code",
   "execution_count": 12,
   "id": "353c959d-2060-4a61-9884-55746a5ca173",
   "metadata": {},
   "outputs": [
    {
     "data": {
      "text/plain": [
       "[21, 22, 25, 23, 24, 26, 25, 25, 28, 29, 27, 29, 26, 24, 23, 23, 23, 21, 23]"
      ]
     },
     "execution_count": 12,
     "metadata": {},
     "output_type": "execute_result"
    }
   ],
   "source": [
    "age"
   ]
  },
  {
   "cell_type": "code",
   "execution_count": 14,
   "id": "3c05dbc4-1050-4e20-b023-5d252813f83f",
   "metadata": {},
   "outputs": [],
   "source": [
    "import statistics"
   ]
  },
  {
   "cell_type": "code",
   "execution_count": 16,
   "id": "5d143255-9613-41de-9d47-7c7d866f1a11",
   "metadata": {},
   "outputs": [],
   "source": [
    "Mean=statistics.mean(age)"
   ]
  },
  {
   "cell_type": "code",
   "execution_count": 18,
   "id": "a05ccf15-12df-4206-ace1-6985918dfd8c",
   "metadata": {},
   "outputs": [
    {
     "data": {
      "text/plain": [
       "24.57894736842105"
      ]
     },
     "execution_count": 18,
     "metadata": {},
     "output_type": "execute_result"
    }
   ],
   "source": [
    "Mean"
   ]
  },
  {
   "cell_type": "code",
   "execution_count": 20,
   "id": "79800ed3-cd78-4a90-b033-b18e9d64550f",
   "metadata": {},
   "outputs": [],
   "source": [
    "Median=statistics.median(age)"
   ]
  },
  {
   "cell_type": "code",
   "execution_count": 22,
   "id": "bcf11b38-228e-4f3b-85af-5c5539434a74",
   "metadata": {},
   "outputs": [
    {
     "data": {
      "text/plain": [
       "24"
      ]
     },
     "execution_count": 22,
     "metadata": {},
     "output_type": "execute_result"
    }
   ],
   "source": [
    "Median"
   ]
  },
  {
   "cell_type": "code",
   "execution_count": 24,
   "id": "23a0e293-9363-4187-abd3-54f7edb596df",
   "metadata": {},
   "outputs": [],
   "source": [
    "Mode=statistics.mode(age)"
   ]
  },
  {
   "cell_type": "code",
   "execution_count": 26,
   "id": "ad60af12-6d09-4271-9b5a-d47d8d514fbe",
   "metadata": {},
   "outputs": [
    {
     "data": {
      "text/plain": [
       "23"
      ]
     },
     "execution_count": 26,
     "metadata": {},
     "output_type": "execute_result"
    }
   ],
   "source": [
    "Mode"
   ]
  },
  {
   "cell_type": "code",
   "execution_count": null,
   "id": "357c032b-08fc-4d9d-ba80-11d3e293cc14",
   "metadata": {},
   "outputs": [],
   "source": []
  }
 ],
 "metadata": {
  "kernelspec": {
   "display_name": "Python 3 (ipykernel)",
   "language": "python",
   "name": "python3"
  },
  "language_info": {
   "codemirror_mode": {
    "name": "ipython",
    "version": 3
   },
   "file_extension": ".py",
   "mimetype": "text/x-python",
   "name": "python",
   "nbconvert_exporter": "python",
   "pygments_lexer": "ipython3",
   "version": "3.12.4"
  }
 },
 "nbformat": 4,
 "nbformat_minor": 5
}
