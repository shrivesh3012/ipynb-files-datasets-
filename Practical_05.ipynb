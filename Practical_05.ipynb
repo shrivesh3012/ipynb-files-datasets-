{
 "cells": [
  {
   "cell_type": "markdown",
   "id": "f8f4ea93-90c2-431f-b131-2e73e34f5158",
   "metadata": {},
   "source": [
    "# Creation of Array (1D,2D and Multidimennsional array)"
   ]
  },
  {
   "cell_type": "code",
   "execution_count": 2,
   "id": "eb1a7258-710e-4e3f-bc0a-95c643090a66",
   "metadata": {},
   "outputs": [],
   "source": [
    "#Exp no. : 5"
   ]
  },
  {
   "cell_type": "code",
   "execution_count": 4,
   "id": "85ea5dfb-3134-4bc8-916e-7b22de9a852b",
   "metadata": {},
   "outputs": [],
   "source": [
    "#Aim : Creation of Array (1D,2D and Multidimennsional array) using numpy"
   ]
  },
  {
   "cell_type": "code",
   "execution_count": 22,
   "id": "8f72fdb3-5d0b-4fde-b427-a57e3e274a8b",
   "metadata": {},
   "outputs": [],
   "source": [
    "#Name :  Devesh J Arbat \n",
    "#Roll no. : 06\n",
    "#Section : A"
   ]
  },
  {
   "cell_type": "code",
   "execution_count": 8,
   "id": "701ae697-1c3a-4725-88be-f807860fa586",
   "metadata": {},
   "outputs": [],
   "source": [
    "import numpy as np"
   ]
  },
  {
   "cell_type": "code",
   "execution_count": 10,
   "id": "ca986047-01f8-4830-a211-8bd64bca7d4c",
   "metadata": {},
   "outputs": [],
   "source": [
    "arr1=np.array([10,20,30,40,50])\n"
   ]
  },
  {
   "cell_type": "code",
   "execution_count": 12,
   "id": "f6fa5f79-e8c8-4d9c-9605-c23b20032a06",
   "metadata": {},
   "outputs": [
    {
     "data": {
      "text/plain": [
       "array([10, 20, 30, 40, 50])"
      ]
     },
     "execution_count": 12,
     "metadata": {},
     "output_type": "execute_result"
    }
   ],
   "source": [
    "arr1"
   ]
  },
  {
   "cell_type": "code",
   "execution_count": 14,
   "id": "85f6c1ad-9565-418b-9021-3b698b21892e",
   "metadata": {},
   "outputs": [],
   "source": [
    "arr2=np.array([[10,20,30,40,50],[60,70,80,90,100]])"
   ]
  },
  {
   "cell_type": "code",
   "execution_count": 16,
   "id": "c5c9c1ac-0bcc-4203-a0a8-bea7f666cdbc",
   "metadata": {},
   "outputs": [
    {
     "data": {
      "text/plain": [
       "array([[ 10,  20,  30,  40,  50],\n",
       "       [ 60,  70,  80,  90, 100]])"
      ]
     },
     "execution_count": 16,
     "metadata": {},
     "output_type": "execute_result"
    }
   ],
   "source": [
    "arr2"
   ]
  },
  {
   "cell_type": "code",
   "execution_count": 18,
   "id": "116127e1-1708-4364-9611-2527a49770fc",
   "metadata": {},
   "outputs": [],
   "source": [
    "arr3=np.array([[10,20,30,40,50],[60,70,80,90,100],[15,25,35,45,55]])"
   ]
  },
  {
   "cell_type": "code",
   "execution_count": 20,
   "id": "d27c17bb-a811-4b80-9305-974bc85974d8",
   "metadata": {},
   "outputs": [
    {
     "data": {
      "text/plain": [
       "array([[ 10,  20,  30,  40,  50],\n",
       "       [ 60,  70,  80,  90, 100],\n",
       "       [ 15,  25,  35,  45,  55]])"
      ]
     },
     "execution_count": 20,
     "metadata": {},
     "output_type": "execute_result"
    }
   ],
   "source": [
    "arr3"
   ]
  },
  {
   "cell_type": "code",
   "execution_count": null,
   "id": "0f8e5618-947a-4d50-81a5-200ff0063983",
   "metadata": {},
   "outputs": [],
   "source": []
  }
 ],
 "metadata": {
  "kernelspec": {
   "display_name": "Python 3 (ipykernel)",
   "language": "python",
   "name": "python3"
  },
  "language_info": {
   "codemirror_mode": {
    "name": "ipython",
    "version": 3
   },
   "file_extension": ".py",
   "mimetype": "text/x-python",
   "name": "python",
   "nbconvert_exporter": "python",
   "pygments_lexer": "ipython3",
   "version": "3.12.4"
  }
 },
 "nbformat": 4,
 "nbformat_minor": 5
}
